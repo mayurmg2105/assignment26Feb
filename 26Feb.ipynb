{
 "cells": [
  {
   "cell_type": "code",
   "execution_count": 1,
   "id": "05ae44f4-8903-4594-9f15-1b3b1d4fc099",
   "metadata": {},
   "outputs": [],
   "source": [
    "\n",
    "import numpy as np\n",
    "\n",
    "list_ = ['1','2','3','4','5']\n",
    "\n",
    "array_list = np.array(object = list_)"
   ]
  },
  {
   "cell_type": "code",
   "execution_count": 2,
   "id": "bd1ed9af-7109-499f-8dfa-0ed30d35d53b",
   "metadata": {},
   "outputs": [],
   "source": [
    "#Queston 1 : Is there any difference in the data type of variables list_ and array_list? If there is then write a code to print the data types of both the variables\n"
   ]
  },
  {
   "cell_type": "code",
   "execution_count": 3,
   "id": "8cb38fca-de4a-4772-9b82-bc1fe9ce362b",
   "metadata": {},
   "outputs": [
    {
     "data": {
      "text/plain": [
       "list"
      ]
     },
     "execution_count": 3,
     "metadata": {},
     "output_type": "execute_result"
    }
   ],
   "source": [
    "#Ans\n",
    "type(list_)"
   ]
  },
  {
   "cell_type": "code",
   "execution_count": 4,
   "id": "ec80cd87-f546-4add-8473-87099a44ce5f",
   "metadata": {},
   "outputs": [
    {
     "data": {
      "text/plain": [
       "numpy.ndarray"
      ]
     },
     "execution_count": 4,
     "metadata": {},
     "output_type": "execute_result"
    }
   ],
   "source": [
    "type(array_list)"
   ]
  },
  {
   "cell_type": "code",
   "execution_count": null,
   "id": "6083d39b-b556-4dab-a1bf-0b9bd8854325",
   "metadata": {},
   "outputs": [],
   "source": [
    "\n",
    "Question 2: Write a code to print the data type of each and every element of both the variables list_ and array_list."
   ]
  },
  {
   "cell_type": "code",
   "execution_count": 5,
   "id": "01952577-fce6-4efd-8d5d-1703640960f2",
   "metadata": {},
   "outputs": [
    {
     "name": "stdout",
     "output_type": "stream",
     "text": [
      "1 <class 'str'>\n",
      "2 <class 'str'>\n",
      "3 <class 'str'>\n",
      "4 <class 'str'>\n",
      "5 <class 'str'>\n"
     ]
    }
   ],
   "source": [
    "for i in list_:\n",
    "    print(i,type(i))"
   ]
  },
  {
   "cell_type": "code",
   "execution_count": 6,
   "id": "e6d2c55d-74bc-4629-b475-c3bf2a8ebba3",
   "metadata": {},
   "outputs": [
    {
     "name": "stdout",
     "output_type": "stream",
     "text": [
      "1 <class 'numpy.str_'>\n",
      "2 <class 'numpy.str_'>\n",
      "3 <class 'numpy.str_'>\n",
      "4 <class 'numpy.str_'>\n",
      "5 <class 'numpy.str_'>\n"
     ]
    }
   ],
   "source": [
    "for i in array_list:\n",
    "    print(i,type(i))"
   ]
  },
  {
   "cell_type": "code",
   "execution_count": null,
   "id": "f078c3f0-2674-4101-9e6a-2a0e7762587d",
   "metadata": {},
   "outputs": [],
   "source": [
    "Question 3: Considering the following changes in the variable, array_list:"
   ]
  },
  {
   "cell_type": "code",
   "execution_count": 7,
   "id": "69ed2bac-b535-4205-943f-40f7511ed832",
   "metadata": {},
   "outputs": [
    {
     "data": {
      "text/plain": [
       "['1', '2', '3', '4', '5']"
      ]
     },
     "execution_count": 7,
     "metadata": {},
     "output_type": "execute_result"
    }
   ],
   "source": [
    "list_"
   ]
  },
  {
   "cell_type": "code",
   "execution_count": 8,
   "id": "15715593-d423-4e84-8a68-86a54fb1f042",
   "metadata": {},
   "outputs": [],
   "source": [
    "array_list = np.array(object = list_, dtype = int)"
   ]
  },
  {
   "cell_type": "code",
   "execution_count": 9,
   "id": "b9ff5a81-0b20-4032-9b53-224302f7ee4b",
   "metadata": {},
   "outputs": [
    {
     "data": {
      "text/plain": [
       "array([1, 2, 3, 4, 5])"
      ]
     },
     "execution_count": 9,
     "metadata": {},
     "output_type": "execute_result"
    }
   ],
   "source": [
    "\n",
    "array_list"
   ]
  },
  {
   "cell_type": "code",
   "execution_count": null,
   "id": "ade864e3-7625-4460-9805-b31bad32e84f",
   "metadata": {},
   "outputs": [],
   "source": [
    "Will there be any difference in the data type of the elements present in both the variables, list_ and array_list? If\n",
    "so then print the data types of each and every element present\n",
    "in both the variables, list_and array_list."
   ]
  },
  {
   "cell_type": "code",
   "execution_count": 10,
   "id": "44d7c538-677c-47e4-bddb-eec95889d47c",
   "metadata": {},
   "outputs": [
    {
     "name": "stdout",
     "output_type": "stream",
     "text": [
      "1 <class 'str'>\n",
      "2 <class 'str'>\n",
      "3 <class 'str'>\n",
      "4 <class 'str'>\n",
      "5 <class 'str'>\n"
     ]
    }
   ],
   "source": [
    "for i in list_:\n",
    "    print(i,type(i))"
   ]
  },
  {
   "cell_type": "code",
   "execution_count": 11,
   "id": "208a4d95-4166-4418-9159-6a1996dfa56f",
   "metadata": {},
   "outputs": [
    {
     "name": "stdout",
     "output_type": "stream",
     "text": [
      "1 <class 'numpy.ndarray'>\n",
      "2 <class 'numpy.ndarray'>\n",
      "3 <class 'numpy.ndarray'>\n",
      "4 <class 'numpy.ndarray'>\n",
      "5 <class 'numpy.ndarray'>\n"
     ]
    }
   ],
   "source": [
    "for i in array_list:\n",
    "    print(i,type(array_list))"
   ]
  },
  {
   "cell_type": "code",
   "execution_count": 12,
   "id": "a782d4ae-b3e8-4462-ae2f-77d8755f7ad4",
   "metadata": {},
   "outputs": [],
   "source": [
    "import numpy as np\n",
    "num_list = [ [ 1 , 2 , 3 ] , [ 4 , 5 , 6 ] ]\n",
    "num_array = np.array(object = num_list)"
   ]
  },
  {
   "cell_type": "code",
   "execution_count": null,
   "id": "6de4efd5-6478-4974-a004-dcfbebee2a64",
   "metadata": {},
   "outputs": [],
   "source": [
    "Question 4: Write a code to find the following characteristics of variable, num_array:"
   ]
  },
  {
   "cell_type": "code",
   "execution_count": null,
   "id": "1bc644cb-91f6-41d5-876f-13e21af54d21",
   "metadata": {},
   "outputs": [],
   "source": []
  }
 ],
 "metadata": {
  "kernelspec": {
   "display_name": "Python 3 (ipykernel)",
   "language": "python",
   "name": "python3"
  },
  "language_info": {
   "codemirror_mode": {
    "name": "ipython",
    "version": 3
   },
   "file_extension": ".py",
   "mimetype": "text/x-python",
   "name": "python",
   "nbconvert_exporter": "python",
   "pygments_lexer": "ipython3",
   "version": "3.10.8"
  }
 },
 "nbformat": 4,
 "nbformat_minor": 5
}
